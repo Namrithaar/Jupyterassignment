{
 "cells": [
  {
   "cell_type": "markdown",
   "id": "0eef6e7d-9744-40fe-81c5-586129e5d5c1",
   "metadata": {
    "tags": []
   },
   "source": [
    "# Data Science tools and Ecosystem"
   ]
  },
  {
   "cell_type": "markdown",
   "id": "0c875ed9-9384-4514-b817-61f5c524f3b4",
   "metadata": {},
   "source": [
    "In this notebook, Data Science Tools and Ecosystem are summarized"
   ]
  },
  {
   "cell_type": "markdown",
   "id": "325c995e-f142-4ead-bceb-2741a0cd6884",
   "metadata": {},
   "source": [
    "**Objectives:**"
   ]
  },
  {
   "cell_type": "markdown",
   "id": "62f8ad53-704c-46a4-8b41-410640a845fd",
   "metadata": {},
   "source": [
    "* To get familiarized with tools used in datascience\n",
    "*  To get familiarized with languages used in datascience\n",
    "*  To get familiarized with libraries used in datascience"
   ]
  },
  {
   "cell_type": "markdown",
   "id": "9774bb52-73b7-48ca-b853-fe59f1809d4b",
   "metadata": {},
   "source": [
    "Some of the popular languages that Data Scientists use are:"
   ]
  },
  {
   "cell_type": "markdown",
   "id": "ab0571e8-2211-4050-b438-5f96c914ffa8",
   "metadata": {},
   "source": [
    "1. Python\n",
    "2. R\n",
    "3. SQL"
   ]
  },
  {
   "cell_type": "markdown",
   "id": "3bec6fcb-1f34-4b69-b885-cf18fef10337",
   "metadata": {},
   "source": [
    "Some of the commonly used libraries used by Data Scientists include:"
   ]
  },
  {
   "cell_type": "markdown",
   "id": "6dd5620d-d080-430d-8e29-e4ec5b24de0c",
   "metadata": {},
   "source": [
    "1. Numpy\n",
    "2. Sckit.learn\n",
    "3. Pandas"
   ]
  },
  {
   "cell_type": "markdown",
   "id": "0c2b1d2d-9418-4a96-b0e3-f00a0160e222",
   "metadata": {},
   "source": [
    "|Data science tools|\n",
    "|------------------|\n",
    "|Excel|\n",
    "|Matlab|\n",
    "|Apache Spark|"
   ]
  },
  {
   "cell_type": "markdown",
   "id": "afc41d2f-d046-44ba-8901-9f7af76167da",
   "metadata": {},
   "source": [
    "### Below are a few examples of evaluating arithmetic expressions in Python\n",
    "\n"
   ]
  },
  {
   "cell_type": "markdown",
   "id": "2c294931-27c2-4fca-9cf8-fbcd1a9b34a7",
   "metadata": {},
   "source": [
    "This a simple arithmetic expression to mutiply then add integers"
   ]
  },
  {
   "cell_type": "code",
   "execution_count": 9,
   "id": "8a88e423-4103-4707-90c9-c10c1c5bd7cc",
   "metadata": {
    "tags": []
   },
   "outputs": [
    {
     "data": {
      "text/plain": [
       "17"
      ]
     },
     "execution_count": 9,
     "metadata": {},
     "output_type": "execute_result"
    }
   ],
   "source": [
    "(3*4)+5"
   ]
  },
  {
   "cell_type": "markdown",
   "id": "a5c3288d-b4e6-4cae-a1c7-43942e8096a3",
   "metadata": {},
   "source": [
    "### Code to convert minutes to hour"
   ]
  },
  {
   "cell_type": "markdown",
   "id": "064a121e-d1a4-4f4f-9fd3-b64ff381aa88",
   "metadata": {},
   "source": [
    "This will convert 200 minutes to hours by diving by 60"
   ]
  },
  {
   "cell_type": "markdown",
   "id": "10bd6f8e-4ad0-407e-b05a-99882165a242",
   "metadata": {},
   "source": [
    "Hours= Minutes / 60\n"
   ]
  },
  {
   "cell_type": "markdown",
   "id": "2299fb5a-2a6b-43fd-9996-5b9d12e85999",
   "metadata": {
    "tags": []
   },
   "source": [
    "Hours= 200/60"
   ]
  },
  {
   "cell_type": "code",
   "execution_count": 13,
   "id": "592280c3-b756-41ad-b997-be4753f6b7d2",
   "metadata": {
    "tags": []
   },
   "outputs": [
    {
     "data": {
      "text/plain": [
       "3.3333333333333335"
      ]
     },
     "execution_count": 13,
     "metadata": {},
     "output_type": "execute_result"
    }
   ],
   "source": [
    "200/60"
   ]
  },
  {
   "cell_type": "markdown",
   "id": "c05ba8e0-773a-4208-9d46-49a1fb1c98ee",
   "metadata": {},
   "source": [
    "# Author\n",
    "Namritha"
   ]
  },
  {
   "cell_type": "code",
   "execution_count": null,
   "id": "1c388762-482f-459a-86f8-ea0ffacb66fd",
   "metadata": {},
   "outputs": [],
   "source": []
  }
 ],
 "metadata": {
  "kernelspec": {
   "display_name": "Python",
   "language": "python",
   "name": "conda-env-python-py"
  },
  "language_info": {
   "codemirror_mode": {
    "name": "ipython",
    "version": 3
   },
   "file_extension": ".py",
   "mimetype": "text/x-python",
   "name": "python",
   "nbconvert_exporter": "python",
   "pygments_lexer": "ipython3",
   "version": "3.7.12"
  }
 },
 "nbformat": 4,
 "nbformat_minor": 5
}
